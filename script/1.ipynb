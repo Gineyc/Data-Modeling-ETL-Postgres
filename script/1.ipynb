{
 "cells": [
  {
   "cell_type": "code",
   "execution_count": 19,
   "metadata": {},
   "outputs": [],
   "source": [
    "import psycopg2\n",
    "import pandas as pd\n",
    "\n",
    "customers_table_insert = (\"\"\"\n",
    "INSERT INTO customers (\n",
    "    customer_id,\n",
    "    customer_unique_id ,\n",
    "    customer_zip_code_prefix ,\n",
    "    customer_city ,\n",
    "    customer_state ) VALUES (%s,%s,%s,%s,%s)\n",
    "    ;\n",
    "\"\"\")\n",
    "\n",
    "conn = psycopg2.connect(\n",
    "    \"host=127.0.0.1 dbname=ecommerce user=postgres password=password\")\n",
    "cur = conn.cursor()\n"
   ]
  },
  {
   "cell_type": "code",
   "execution_count": 20,
   "metadata": {},
   "outputs": [],
   "source": [
    "filename = 'D:\\Master\\REPO\\Data Modeling\\data\\e-commerce\\olist_customers_dataset.csv'\n",
    "df = pd.read_csv(filename, index_col=None, encoding='utf-8')\n",
    "customer_data = df[['customer_id', 'customer_unique_id',\n",
    "                    'customer_zip_code_prefix', 'customer_city', 'customer_state']]"
   ]
  },
  {
   "cell_type": "code",
   "execution_count": 21,
   "metadata": {},
   "outputs": [
    {
     "output_type": "execute_result",
     "data": {
      "text/plain": "array(['06b8999e2fba1a1fbc88172c00ba8bc7',\n       '861eff4711a542e4b93843c6dd7febb0', 14409, 'franca', 'SP'],\n      dtype=object)"
     },
     "metadata": {},
     "execution_count": 21
    }
   ],
   "source": [
    "# for i in range(len(customer_data)):\n",
    "\n",
    "data = customer_data.values[0]\n",
    "\n",
    "data\n"
   ]
  },
  {
   "cell_type": "code",
   "execution_count": 22,
   "metadata": {},
   "outputs": [],
   "source": [
    "cur.execute(customers_table_insert, data)\n",
    "conn.commit()"
   ]
  }
 ],
 "metadata": {
  "language_info": {
   "codemirror_mode": {
    "name": "ipython",
    "version": 3
   },
   "file_extension": ".py",
   "mimetype": "text/x-python",
   "name": "python",
   "nbconvert_exporter": "python",
   "pygments_lexer": "ipython3",
   "version": "3.7.7-final"
  },
  "orig_nbformat": 2,
  "kernelspec": {
   "name": "python37764bitbaseconda6dbd0a79d65342aaac9adf279ef76d69",
   "display_name": "Python 3.7.7 64-bit ('base': conda)"
  }
 },
 "nbformat": 4,
 "nbformat_minor": 2
}